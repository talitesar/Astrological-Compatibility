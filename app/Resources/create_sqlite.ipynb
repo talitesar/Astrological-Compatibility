{
 "cells": [
  {
   "cell_type": "code",
   "execution_count": 29,
   "metadata": {},
   "outputs": [],
   "source": [
    "#Import our dependencies\n",
    "import sqlite3\n",
    "import pandas as pd\n",
    "from pathlib import Path\n",
    "import sqlalchemy\n",
    "from sqlalchemy.ext.automap import automap_base\n",
    "from sqlalchemy.orm import Session\n",
    "from sqlalchemy import create_engine, func"
   ]
  },
  {
   "cell_type": "code",
   "execution_count": 30,
   "metadata": {},
   "outputs": [],
   "source": [
    "#Establishing path we will be making\n",
    "database_path = \"../Resources/Astrological_data.sqlite\"\n",
    "Path(database_path).touch()"
   ]
  },
  {
   "cell_type": "code",
   "execution_count": 31,
   "metadata": {},
   "outputs": [],
   "source": [
    "#Adding the connections for the sqlite document\n",
    "conn = sqlite3.connect( database_path)\n",
    "c = conn.cursor()"
   ]
  },
  {
   "cell_type": "code",
   "execution_count": 32,
   "metadata": {},
   "outputs": [
    {
     "data": {
      "text/plain": [
       "<sqlite3.Cursor at 0x1d2d910c570>"
      ]
     },
     "execution_count": 32,
     "metadata": {},
     "output_type": "execute_result"
    }
   ],
   "source": [
    "#Dropping any exisiting tables\n",
    "c.execute('''DROP TABLE IF EXISTS Astrological_Compatibility;''')"
   ]
  },
  {
   "cell_type": "code",
   "execution_count": 33,
   "metadata": {},
   "outputs": [
    {
     "data": {
      "text/plain": [
       "<sqlite3.Cursor at 0x1d2d910c570>"
      ]
     },
     "execution_count": 33,
     "metadata": {},
     "output_type": "execute_result"
    }
   ],
   "source": [
    "#Creating the table and the columns for the new database\n",
    "c.execute('''\n",
    "    CREATE TABLE Astrological_Compatibility (\n",
    "        Zodiac_combination VARCHAR(40) NOT NULL,\n",
    "        Compatibility_rate DEC NOT NULL,\n",
    "        PRIMARY KEY (Zodiac_combination)\n",
    "    );\n",
    "''')"
   ]
  },
  {
   "cell_type": "code",
   "execution_count": 34,
   "metadata": {},
   "outputs": [],
   "source": [
    "#Creating variable for reading from csv file\n",
    "data_csv = pd.read_csv(\"../Comp_matrix.csv\")"
   ]
  },
  {
   "cell_type": "code",
   "execution_count": 35,
   "metadata": {},
   "outputs": [
    {
     "data": {
      "text/html": [
       "<div>\n",
       "<style scoped>\n",
       "    .dataframe tbody tr th:only-of-type {\n",
       "        vertical-align: middle;\n",
       "    }\n",
       "\n",
       "    .dataframe tbody tr th {\n",
       "        vertical-align: top;\n",
       "    }\n",
       "\n",
       "    .dataframe thead th {\n",
       "        text-align: right;\n",
       "    }\n",
       "</style>\n",
       "<table border=\"1\" class=\"dataframe\">\n",
       "  <thead>\n",
       "    <tr style=\"text-align: right;\">\n",
       "      <th></th>\n",
       "      <th>Zodiac_combination</th>\n",
       "      <th>Compatibility_rate</th>\n",
       "    </tr>\n",
       "  </thead>\n",
       "  <tbody>\n",
       "    <tr>\n",
       "      <th>0</th>\n",
       "      <td>CancerPisces</td>\n",
       "      <td>0.98</td>\n",
       "    </tr>\n",
       "    <tr>\n",
       "      <th>1</th>\n",
       "      <td>TaurusGemini</td>\n",
       "      <td>0.33</td>\n",
       "    </tr>\n",
       "    <tr>\n",
       "      <th>2</th>\n",
       "      <td>VirgoPisces</td>\n",
       "      <td>0.88</td>\n",
       "    </tr>\n",
       "    <tr>\n",
       "      <th>3</th>\n",
       "      <td>PiscesAries</td>\n",
       "      <td>0.67</td>\n",
       "    </tr>\n",
       "    <tr>\n",
       "      <th>4</th>\n",
       "      <td>CancerAquarius</td>\n",
       "      <td>0.27</td>\n",
       "    </tr>\n",
       "  </tbody>\n",
       "</table>\n",
       "</div>"
      ],
      "text/plain": [
       "  Zodiac_combination  Compatibility_rate\n",
       "0       CancerPisces                0.98\n",
       "1       TaurusGemini                0.33\n",
       "2        VirgoPisces                0.88\n",
       "3        PiscesAries                0.67\n",
       "4     CancerAquarius                0.27"
      ]
     },
     "execution_count": 35,
     "metadata": {},
     "output_type": "execute_result"
    }
   ],
   "source": [
    "#Reading the data to make sure it is correct\n",
    "data_csv.head()\n"
   ]
  },
  {
   "cell_type": "code",
   "execution_count": 36,
   "metadata": {},
   "outputs": [
    {
     "data": {
      "text/plain": [
       "144"
      ]
     },
     "execution_count": 36,
     "metadata": {},
     "output_type": "execute_result"
    }
   ],
   "source": [
    "# Inserting data into the table\n",
    "data_csv.to_sql(\"Astrological_Compatibility\", conn, if_exists='append', index = False)"
   ]
  },
  {
   "cell_type": "code",
   "execution_count": 37,
   "metadata": {},
   "outputs": [
    {
     "data": {
      "text/plain": [
       "[('CancerPisces', 0.98),\n",
       " ('TaurusGemini', 0.33),\n",
       " ('VirgoPisces', 0.88),\n",
       " ('PiscesAries', 0.67),\n",
       " ('CancerAquarius', 0.27),\n",
       " ('GeminiLeo', 0.88),\n",
       " ('LeoTaurus', 0.73),\n",
       " ('CapricornPisces', 0.88),\n",
       " ('ScorpioLibra', 0.35),\n",
       " ('TaurusPisces', 0.85),\n",
       " ('LibraTaurus', 0.65),\n",
       " ('TaurusVirgo', 0.9),\n",
       " ('SagittariusAries', 0.93),\n",
       " ('CancerVirgo', 0.9),\n",
       " ('VirgoVirgo', 0.65),\n",
       " ('VirgoGemini', 0.68),\n",
       " ('CancerLibra', 0.43),\n",
       " ('SagittariusSagittarius', 0.45),\n",
       " ('TaurusScorpio', 0.88),\n",
       " ('ScorpioTaurus', 0.88),\n",
       " ('GeminiLibra', 0.93),\n",
       " ('TaurusLibra', 0.65),\n",
       " ('AriesAquarius', 0.78),\n",
       " ('LibraLibra', 0.75),\n",
       " ('SagittariusLibra', 0.73),\n",
       " ('LibraVirgo', 0.68),\n",
       " ('SagittariusAquarius', 0.9),\n",
       " ('ScorpioAries', 0.5),\n",
       " ('AriesLeo', 0.97),\n",
       " ('CancerCancer', 0.75),\n",
       " ('TaurusSagittarius', 0.3),\n",
       " ('AquariusAquarius', 0.45),\n",
       " ('LeoGemini', 0.88),\n",
       " ('CancerScorpio', 0.94),\n",
       " ('PiscesLibra', 0.88),\n",
       " ('AquariusAries', 0.78),\n",
       " ('LeoVirgo', 0.35),\n",
       " ('VirgoAries', 0.63),\n",
       " ('AquariusScorpio', 0.73),\n",
       " ('GeminiVirgo', 0.68),\n",
       " ('SagittariusVirgo', 0.48),\n",
       " ('VirgoCancer', 0.9),\n",
       " ('CapricornSagittarius', 0.6),\n",
       " ('SagittariusCancer', 0.53),\n",
       " ('ScorpioScorpio', 0.8),\n",
       " ('PiscesSagittarius', 0.63),\n",
       " ('PiscesTaurus', 0.85),\n",
       " ('ScorpioPisces', 0.97),\n",
       " ('CancerAries', 0.42),\n",
       " ('PiscesPisces', 0.6),\n",
       " ('CapricornAries', 0.47),\n",
       " ('PiscesCapricorn', 0.88),\n",
       " ('ScorpioAquarius', 0.73),\n",
       " ('TaurusLeo', 0.73),\n",
       " ('AriesLibra', 0.85),\n",
       " ('ScorpioVirgo', 0.88),\n",
       " ('LibraPisces', 0.88),\n",
       " ('AquariusTaurus', 0.58),\n",
       " ('AquariusLeo', 0.68),\n",
       " ('CancerSagittarius', 0.53),\n",
       " ('GeminiScorpio', 0.28),\n",
       " ('PiscesScorpio', 0.97),\n",
       " ('SagittariusTaurus', 0.3),\n",
       " ('VirgoAquarius', 0.3),\n",
       " ('AquariusGemini', 0.85),\n",
       " ('LeoLibra', 0.97),\n",
       " ('CapricornLeo', 0.35),\n",
       " ('VirgoLeo', 0.35),\n",
       " ('CancerLeo', 0.35),\n",
       " ('TaurusAries', 0.38),\n",
       " ('CapricornGemini', 0.68),\n",
       " ('ScorpioCapricorn', 0.95),\n",
       " ('TaurusCapricorn', 0.98),\n",
       " ('GeminiTaurus', 0.33),\n",
       " ('GeminiGemini', 0.6),\n",
       " ('AriesTaurus', 0.38),\n",
       " ('VirgoScorpio', 0.88),\n",
       " ('TaurusCancer', 0.97),\n",
       " ('VirgoSagittarius', 0.48),\n",
       " ('LibraScorpio', 0.35),\n",
       " ('GeminiAries', 0.83),\n",
       " ('LibraCancer', 0.43),\n",
       " ('GeminiAquarius', 0.85),\n",
       " ('LeoSagittarius', 0.93),\n",
       " ('LibraAquarius', 0.9),\n",
       " ('CapricornCancer', 0.83),\n",
       " ('AriesGemini', 0.83),\n",
       " ('LibraGemini', 0.93),\n",
       " ('AquariusVirgo', 0.3),\n",
       " ('VirgoLibra', 0.69),\n",
       " ('LibraAries', 0.85),\n",
       " ('ScorpioSagittarius', 0.28),\n",
       " ('GeminiCapricorn', 0.69),\n",
       " ('PiscesCancer', 0.98),\n",
       " ('LeoLeo', 0.45),\n",
       " ('AriesSagittarius', 0.93),\n",
       " ('LeoCancer', 0.35),\n",
       " ('LeoPisces', 0.38),\n",
       " ('AquariusCancer', 0.27),\n",
       " ('CapricornCapricorn', 0.75),\n",
       " ('PiscesVirgo', 0.88),\n",
       " ('AriesCapricorn', 0.47),\n",
       " ('LeoScorpio', 0.58),\n",
       " ('ScorpioLeo', 0.58),\n",
       " ('SagittariusScorpio', 0.28),\n",
       " ('AriesVirgo', 0.63),\n",
       " ('VirgoTaurus', 0.9),\n",
       " ('CapricornScorpio', 0.95),\n",
       " ('SagittariusCapricorn', 0.6),\n",
       " ('AquariusCapricorn', 0.69),\n",
       " ('TaurusTaurus', 0.58),\n",
       " ('AquariusSagittarius', 0.9),\n",
       " ('LibraSagittarius', 0.73),\n",
       " ('SagittariusGemini', 0.6),\n",
       " ('CapricornAquarius', 0.69),\n",
       " ('LibraLeo', 0.97),\n",
       " ('CapricornVirgo', 0.95),\n",
       " ('PiscesGemini', 0.53),\n",
       " ('PiscesAquarius', 0.45),\n",
       " ('PiscesLeo', 0.38),\n",
       " ('SagittariusLeo', 0.93),\n",
       " ('AriesCancer', 0.42),\n",
       " ('CapricornTaurus', 0.98),\n",
       " ('GeminiPisces', 0.53),\n",
       " ('LeoAries', 0.97),\n",
       " ('LeoAquarius', 0.69),\n",
       " ('ScorpioGemini', 0.28),\n",
       " ('CancerTaurus', 0.97),\n",
       " ('SagittariusPisces', 0.63),\n",
       " ('AriesPisces', 0.67),\n",
       " ('AquariusPisces', 0.45),\n",
       " ('AriesScorpio', 0.5),\n",
       " ('TaurusAquarius', 0.58),\n",
       " ('AriesAries', 0.5),\n",
       " ('ScorpioCancer', 0.94),\n",
       " ('AquariusLibra', 0.9),\n",
       " ('GeminiSagittarius', 0.6),\n",
       " ('GeminiCancer', 0.65),\n",
       " ('CancerGemini', 0.65),\n",
       " ('CancerCapricorn', 0.83),\n",
       " ('LibraCapricorn', 0.55),\n",
       " ('LeoCapricorn', 0.35),\n",
       " ('VirgoCapricorn', 0.95),\n",
       " ('CapricornLibra', 0.55)]"
      ]
     },
     "execution_count": 37,
     "metadata": {},
     "output_type": "execute_result"
    }
   ],
   "source": [
    "#Running excute to make sure the database is working\n",
    "c.execute('''SELECT * from Astrological_Compatibility''').fetchall()"
   ]
  },
  {
   "cell_type": "code",
   "execution_count": 38,
   "metadata": {},
   "outputs": [],
   "source": [
    "#Closing the connection\n",
    "conn.close()"
   ]
  }
 ],
 "metadata": {
  "kernelspec": {
   "display_name": "Python 3.9.12 ('base')",
   "language": "python",
   "name": "python3"
  },
  "language_info": {
   "codemirror_mode": {
    "name": "ipython",
    "version": 3
   },
   "file_extension": ".py",
   "mimetype": "text/x-python",
   "name": "python",
   "nbconvert_exporter": "python",
   "pygments_lexer": "ipython3",
   "version": "3.9.13"
  },
  "orig_nbformat": 4,
  "vscode": {
   "interpreter": {
    "hash": "b327c3f02a55c96f0e641b3d006bf54f0d0442b9dc497968dddf32a3cf9bdc28"
   }
  }
 },
 "nbformat": 4,
 "nbformat_minor": 2
}
