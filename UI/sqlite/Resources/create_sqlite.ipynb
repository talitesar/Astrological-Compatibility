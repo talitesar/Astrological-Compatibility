{
 "cells": [
  {
   "cell_type": "code",
   "execution_count": 1,
   "metadata": {},
   "outputs": [],
   "source": [
    "#Import our dependencies\n",
    "import sqlite3\n",
    "import pandas as pd\n",
    "from pathlib import Path\n",
    "import sqlalchemy\n",
    "from sqlalchemy.ext.automap import automap_base\n",
    "from sqlalchemy.orm import Session\n",
    "from sqlalchemy import create_engine, func"
   ]
  },
  {
   "cell_type": "code",
   "execution_count": 2,
   "metadata": {},
   "outputs": [],
   "source": [
    "#Establishing path we will be making\n",
    "database_path = \"../Resources/Astrological_data.sqlite\"\n",
    "Path(database_path).touch()"
   ]
  },
  {
   "cell_type": "code",
   "execution_count": 3,
   "metadata": {},
   "outputs": [],
   "source": [
    "#Adding the connections for the sqlite document\n",
    "conn = sqlite3.connect( database_path)\n",
    "c = conn.cursor()"
   ]
  },
  {
   "cell_type": "code",
   "execution_count": 4,
   "metadata": {},
   "outputs": [
    {
     "data": {
      "text/plain": [
       "<sqlite3.Cursor at 0x2d33c06cb90>"
      ]
     },
     "execution_count": 4,
     "metadata": {},
     "output_type": "execute_result"
    }
   ],
   "source": [
    "#Dropping any exisiting tables\n",
    "c.execute('''DROP TABLE IF EXISTS Astrological_Compatibility;''')"
   ]
  },
  {
   "cell_type": "code",
   "execution_count": 5,
   "metadata": {},
   "outputs": [
    {
     "data": {
      "text/plain": [
       "<sqlite3.Cursor at 0x2d33c06cb90>"
      ]
     },
     "execution_count": 5,
     "metadata": {},
     "output_type": "execute_result"
    }
   ],
   "source": [
    "#Creating the table and the columns for the new database\n",
    "c.execute('''\n",
    "    CREATE TABLE Astrological_Compatibility (\n",
    "        zodiac1 VARCHAR(40) NOT NULL,\n",
    "        zodiac2 VARCHAR(40) NOT NULL,\n",
    "        bad_match INT NOT NULL,\n",
    "        Compatibility_rate DEC NOT NULL\n",
    "    );\n",
    "''')"
   ]
  },
  {
   "cell_type": "code",
   "execution_count": 9,
   "metadata": {},
   "outputs": [],
   "source": [
    "#Creating variable for reading from csv file\n",
    "data_csv = pd.read_csv(\"../zodiac_outcome.csv\", index_col=0)"
   ]
  },
  {
   "cell_type": "code",
   "execution_count": 10,
   "metadata": {},
   "outputs": [
    {
     "data": {
      "text/html": [
       "<div>\n",
       "<style scoped>\n",
       "    .dataframe tbody tr th:only-of-type {\n",
       "        vertical-align: middle;\n",
       "    }\n",
       "\n",
       "    .dataframe tbody tr th {\n",
       "        vertical-align: top;\n",
       "    }\n",
       "\n",
       "    .dataframe thead th {\n",
       "        text-align: right;\n",
       "    }\n",
       "</style>\n",
       "<table border=\"1\" class=\"dataframe\">\n",
       "  <thead>\n",
       "    <tr style=\"text-align: right;\">\n",
       "      <th></th>\n",
       "      <th>zodiac1</th>\n",
       "      <th>zodiac2</th>\n",
       "      <th>bad_match</th>\n",
       "      <th>Compatibility_rate</th>\n",
       "    </tr>\n",
       "  </thead>\n",
       "  <tbody>\n",
       "    <tr>\n",
       "      <th>0</th>\n",
       "      <td>Aries</td>\n",
       "      <td>Aries</td>\n",
       "      <td>0</td>\n",
       "      <td>50.0</td>\n",
       "    </tr>\n",
       "    <tr>\n",
       "      <th>1</th>\n",
       "      <td>Aries</td>\n",
       "      <td>Taurus</td>\n",
       "      <td>1</td>\n",
       "      <td>38.0</td>\n",
       "    </tr>\n",
       "    <tr>\n",
       "      <th>2</th>\n",
       "      <td>Aries</td>\n",
       "      <td>Gemini</td>\n",
       "      <td>0</td>\n",
       "      <td>83.0</td>\n",
       "    </tr>\n",
       "    <tr>\n",
       "      <th>3</th>\n",
       "      <td>Aries</td>\n",
       "      <td>Cancer</td>\n",
       "      <td>0</td>\n",
       "      <td>42.0</td>\n",
       "    </tr>\n",
       "    <tr>\n",
       "      <th>4</th>\n",
       "      <td>Aries</td>\n",
       "      <td>Leo</td>\n",
       "      <td>0</td>\n",
       "      <td>97.0</td>\n",
       "    </tr>\n",
       "  </tbody>\n",
       "</table>\n",
       "</div>"
      ],
      "text/plain": [
       "  zodiac1 zodiac2  bad_match  Compatibility_rate\n",
       "0   Aries   Aries          0                50.0\n",
       "1   Aries  Taurus          1                38.0\n",
       "2   Aries  Gemini          0                83.0\n",
       "3   Aries  Cancer          0                42.0\n",
       "4   Aries     Leo          0                97.0"
      ]
     },
     "execution_count": 10,
     "metadata": {},
     "output_type": "execute_result"
    }
   ],
   "source": [
    "#Reading the data to make sure it is correct\n",
    "data_csv.head()\n"
   ]
  },
  {
   "cell_type": "code",
   "execution_count": 11,
   "metadata": {},
   "outputs": [
    {
     "data": {
      "text/plain": [
       "144"
      ]
     },
     "execution_count": 11,
     "metadata": {},
     "output_type": "execute_result"
    }
   ],
   "source": [
    "# Inserting data into the table\n",
    "data_csv.to_sql(\"Astrological_Compatibility\", conn, if_exists='append', index = False)"
   ]
  },
  {
   "cell_type": "code",
   "execution_count": 12,
   "metadata": {},
   "outputs": [
    {
     "data": {
      "text/plain": [
       "[('Aries', 'Aries', 0, 50),\n",
       " ('Aries', 'Taurus', 1, 38),\n",
       " ('Aries', 'Gemini', 0, 83),\n",
       " ('Aries', 'Cancer', 0, 42),\n",
       " ('Aries', 'Leo', 0, 97),\n",
       " ('Aries', 'Virgo', 0, 63),\n",
       " ('Aries', 'Libra', 0, 85),\n",
       " ('Aries', 'Scorpio', 0, 50),\n",
       " ('Aries', 'Sagittarius', 0, 93),\n",
       " ('Aries', 'Capricorn', 0, 47),\n",
       " ('Aries', 'Aquarius', 0, 78),\n",
       " ('Aries', 'Pisces', 0, 67),\n",
       " ('Taurus', 'Aries', 1, 38),\n",
       " ('Taurus', 'Taurus', 1, 57.99999999999999),\n",
       " ('Taurus', 'Gemini', 1, 33),\n",
       " ('Taurus', 'Cancer', 1, 97),\n",
       " ('Taurus', 'Leo', 1, 73),\n",
       " ('Taurus', 'Virgo', 1, 90),\n",
       " ('Taurus', 'Libra', 1, 65),\n",
       " ('Taurus', 'Scorpio', 1, 88),\n",
       " ('Taurus', 'Sagittarius', 1, 30),\n",
       " ('Taurus', 'Capricorn', 1, 98),\n",
       " ('Taurus', 'Aquarius', 1, 57.99999999999999),\n",
       " ('Taurus', 'Pisces', 1, 85),\n",
       " ('Gemini', 'Aries', 0, 83),\n",
       " ('Gemini', 'Taurus', 1, 33),\n",
       " ('Gemini', 'Gemini', 0, 60),\n",
       " ('Gemini', 'Cancer', 1, 65),\n",
       " ('Gemini', 'Leo', 1, 88),\n",
       " ('Gemini', 'Virgo', 0, 68),\n",
       " ('Gemini', 'Libra', 0, 93),\n",
       " ('Gemini', 'Scorpio', 0, 28.000000000000004),\n",
       " ('Gemini', 'Sagittarius', 1, 60),\n",
       " ('Gemini', 'Capricorn', 0, 69),\n",
       " ('Gemini', 'Aquarius', 0, 85),\n",
       " ('Gemini', 'Pisces', 1, 53),\n",
       " ('Cancer', 'Aries', 0, 42),\n",
       " ('Cancer', 'Taurus', 1, 97),\n",
       " ('Cancer', 'Gemini', 1, 65),\n",
       " ('Cancer', 'Cancer', 1, 75),\n",
       " ('Cancer', 'Leo', 1, 35),\n",
       " ('Cancer', 'Virgo', 1, 90),\n",
       " ('Cancer', 'Libra', 1, 43),\n",
       " ('Cancer', 'Scorpio', 1, 94),\n",
       " ('Cancer', 'Sagittarius', 1, 53),\n",
       " ('Cancer', 'Capricorn', 1, 83),\n",
       " ('Cancer', 'Aquarius', 1, 27),\n",
       " ('Cancer', 'Pisces', 1, 98),\n",
       " ('Leo', 'Aries', 0, 97),\n",
       " ('Leo', 'Taurus', 1, 73),\n",
       " ('Leo', 'Gemini', 1, 88),\n",
       " ('Leo', 'Cancer', 1, 35),\n",
       " ('Leo', 'Leo', 1, 45),\n",
       " ('Leo', 'Virgo', 1, 35),\n",
       " ('Leo', 'Libra', 0, 97),\n",
       " ('Leo', 'Scorpio', 1, 57.99999999999999),\n",
       " ('Leo', 'Sagittarius', 1, 93),\n",
       " ('Leo', 'Capricorn', 0, 35),\n",
       " ('Leo', 'Aquarius', 1, 69),\n",
       " ('Leo', 'Pisces', 1, 38),\n",
       " ('Virgo', 'Aries', 0, 63),\n",
       " ('Virgo', 'Taurus', 1, 90),\n",
       " ('Virgo', 'Gemini', 0, 68),\n",
       " ('Virgo', 'Cancer', 1, 90),\n",
       " ('Virgo', 'Leo', 1, 35),\n",
       " ('Virgo', 'Virgo', 0, 65),\n",
       " ('Virgo', 'Libra', 0, 69),\n",
       " ('Virgo', 'Scorpio', 0, 88),\n",
       " ('Virgo', 'Sagittarius', 1, 48),\n",
       " ('Virgo', 'Capricorn', 0, 95),\n",
       " ('Virgo', 'Aquarius', 0, 30),\n",
       " ('Virgo', 'Pisces', 0, 88),\n",
       " ('Libra', 'Aries', 0, 85),\n",
       " ('Libra', 'Taurus', 1, 65),\n",
       " ('Libra', 'Gemini', 0, 93),\n",
       " ('Libra', 'Cancer', 1, 43),\n",
       " ('Libra', 'Leo', 0, 97),\n",
       " ('Libra', 'Virgo', 0, 68),\n",
       " ('Libra', 'Libra', 0, 75),\n",
       " ('Libra', 'Scorpio', 0, 35),\n",
       " ('Libra', 'Sagittarius', 0, 73),\n",
       " ('Libra', 'Capricorn', 0, 55.00000000000001),\n",
       " ('Libra', 'Aquarius', 0, 90),\n",
       " ('Libra', 'Pisces', 0, 88),\n",
       " ('Scorpio', 'Aries', 0, 50),\n",
       " ('Scorpio', 'Taurus', 1, 88),\n",
       " ('Scorpio', 'Gemini', 0, 28.000000000000004),\n",
       " ('Scorpio', 'Cancer', 1, 94),\n",
       " ('Scorpio', 'Leo', 1, 57.99999999999999),\n",
       " ('Scorpio', 'Virgo', 0, 88),\n",
       " ('Scorpio', 'Libra', 0, 35),\n",
       " ('Scorpio', 'Scorpio', 0, 80),\n",
       " ('Scorpio', 'Sagittarius', 1, 28.000000000000004),\n",
       " ('Scorpio', 'Capricorn', 0, 95),\n",
       " ('Scorpio', 'Aquarius', 0, 73),\n",
       " ('Scorpio', 'Pisces', 1, 97),\n",
       " ('Sagittarius', 'Aries', 0, 93),\n",
       " ('Sagittarius', 'Taurus', 1, 30),\n",
       " ('Sagittarius', 'Gemini', 1, 60),\n",
       " ('Sagittarius', 'Cancer', 1, 53),\n",
       " ('Sagittarius', 'Leo', 1, 93),\n",
       " ('Sagittarius', 'Virgo', 1, 48),\n",
       " ('Sagittarius', 'Libra', 0, 73),\n",
       " ('Sagittarius', 'Scorpio', 1, 28.000000000000004),\n",
       " ('Sagittarius', 'Sagittarius', 1, 45),\n",
       " ('Sagittarius', 'Capricorn', 0, 60),\n",
       " ('Sagittarius', 'Aquarius', 1, 90),\n",
       " ('Sagittarius', 'Pisces', 1, 63),\n",
       " ('Capricorn', 'Aries', 0, 47),\n",
       " ('Capricorn', 'Taurus', 1, 98),\n",
       " ('Capricorn', 'Gemini', 0, 68),\n",
       " ('Capricorn', 'Cancer', 1, 83),\n",
       " ('Capricorn', 'Leo', 0, 35),\n",
       " ('Capricorn', 'Virgo', 0, 95),\n",
       " ('Capricorn', 'Libra', 0, 55.00000000000001),\n",
       " ('Capricorn', 'Scorpio', 0, 95),\n",
       " ('Capricorn', 'Sagittarius', 0, 60),\n",
       " ('Capricorn', 'Capricorn', 0, 75),\n",
       " ('Capricorn', 'Aquarius', 0, 69),\n",
       " ('Capricorn', 'Pisces', 0, 88),\n",
       " ('Aquarius', 'Aries', 0, 78),\n",
       " ('Aquarius', 'Taurus', 1, 57.99999999999999),\n",
       " ('Aquarius', 'Gemini', 0, 85),\n",
       " ('Aquarius', 'Cancer', 1, 27),\n",
       " ('Aquarius', 'Leo', 1, 68),\n",
       " ('Aquarius', 'Virgo', 0, 30),\n",
       " ('Aquarius', 'Libra', 0, 90),\n",
       " ('Aquarius', 'Scorpio', 0, 73),\n",
       " ('Aquarius', 'Sagittarius', 1, 90),\n",
       " ('Aquarius', 'Capricorn', 0, 69),\n",
       " ('Aquarius', 'Aquarius', 0, 45),\n",
       " ('Aquarius', 'Pisces', 0, 45),\n",
       " ('Pisces', 'Aries', 0, 67),\n",
       " ('Pisces', 'Taurus', 1, 85),\n",
       " ('Pisces', 'Gemini', 1, 53),\n",
       " ('Pisces', 'Cancer', 1, 98),\n",
       " ('Pisces', 'Leo', 1, 38),\n",
       " ('Pisces', 'Virgo', 0, 88),\n",
       " ('Pisces', 'Libra', 0, 88),\n",
       " ('Pisces', 'Scorpio', 1, 97),\n",
       " ('Pisces', 'Sagittarius', 1, 63),\n",
       " ('Pisces', 'Capricorn', 0, 88),\n",
       " ('Pisces', 'Aquarius', 0, 45),\n",
       " ('Pisces', 'Pisces', 1, 60)]"
      ]
     },
     "execution_count": 12,
     "metadata": {},
     "output_type": "execute_result"
    }
   ],
   "source": [
    "#Running excute to make sure the database is working\n",
    "c.execute('''SELECT * from Astrological_Compatibility''').fetchall()"
   ]
  },
  {
   "cell_type": "code",
   "execution_count": 13,
   "metadata": {},
   "outputs": [],
   "source": [
    "#Closing the connection\n",
    "conn.close()"
   ]
  }
 ],
 "metadata": {
  "kernelspec": {
   "display_name": "Python 3.9.12 ('base')",
   "language": "python",
   "name": "python3"
  },
  "language_info": {
   "codemirror_mode": {
    "name": "ipython",
    "version": 3
   },
   "file_extension": ".py",
   "mimetype": "text/x-python",
   "name": "python",
   "nbconvert_exporter": "python",
   "pygments_lexer": "ipython3",
   "version": "3.9.13"
  },
  "orig_nbformat": 4,
  "vscode": {
   "interpreter": {
    "hash": "b327c3f02a55c96f0e641b3d006bf54f0d0442b9dc497968dddf32a3cf9bdc28"
   }
  }
 },
 "nbformat": 4,
 "nbformat_minor": 2
}
