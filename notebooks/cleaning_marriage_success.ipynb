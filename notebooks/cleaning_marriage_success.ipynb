{
 "cells": [
  {
   "cell_type": "code",
   "execution_count": 100,
   "metadata": {},
   "outputs": [],
   "source": [
    "import pandas as pd\n",
    "import datetime as dt"
   ]
  },
  {
   "cell_type": "code",
   "execution_count": 101,
   "metadata": {},
   "outputs": [
    {
     "data": {
      "text/html": [
       "<div>\n",
       "<style scoped>\n",
       "    .dataframe tbody tr th:only-of-type {\n",
       "        vertical-align: middle;\n",
       "    }\n",
       "\n",
       "    .dataframe tbody tr th {\n",
       "        vertical-align: top;\n",
       "    }\n",
       "\n",
       "    .dataframe thead th {\n",
       "        text-align: right;\n",
       "    }\n",
       "</style>\n",
       "<table border=\"1\" class=\"dataframe\">\n",
       "  <thead>\n",
       "    <tr style=\"text-align: right;\">\n",
       "      <th></th>\n",
       "      <th>Marriage_Date</th>\n",
       "      <th>DOB1</th>\n",
       "      <th>DOB2</th>\n",
       "      <th>divorce</th>\n",
       "    </tr>\n",
       "  </thead>\n",
       "  <tbody>\n",
       "    <tr>\n",
       "      <th>22554</th>\n",
       "      <td>2014-02-19</td>\n",
       "      <td>1983-11-17</td>\n",
       "      <td>1990-03-25</td>\n",
       "      <td>0.0</td>\n",
       "    </tr>\n",
       "    <tr>\n",
       "      <th>12203</th>\n",
       "      <td>2008-02-15</td>\n",
       "      <td>1987-01-26</td>\n",
       "      <td>1987-06-09</td>\n",
       "      <td>0.0</td>\n",
       "    </tr>\n",
       "    <tr>\n",
       "      <th>17722</th>\n",
       "      <td>2011-06-11</td>\n",
       "      <td>1981-05-05</td>\n",
       "      <td>1982-09-02</td>\n",
       "      <td>0.0</td>\n",
       "    </tr>\n",
       "    <tr>\n",
       "      <th>7319</th>\n",
       "      <td>2005-01-25</td>\n",
       "      <td>1985-10-24</td>\n",
       "      <td>1977-06-10</td>\n",
       "      <td>0.0</td>\n",
       "    </tr>\n",
       "    <tr>\n",
       "      <th>21310</th>\n",
       "      <td>2013-05-14</td>\n",
       "      <td>1993-04-29</td>\n",
       "      <td>1988-06-09</td>\n",
       "      <td>0.0</td>\n",
       "    </tr>\n",
       "  </tbody>\n",
       "</table>\n",
       "</div>"
      ],
      "text/plain": [
       "      Marriage_Date        DOB1        DOB2  divorce\n",
       "22554    2014-02-19  1983-11-17  1990-03-25      0.0\n",
       "12203    2008-02-15  1987-01-26  1987-06-09      0.0\n",
       "17722    2011-06-11  1981-05-05  1982-09-02      0.0\n",
       "7319     2005-01-25  1985-10-24  1977-06-10      0.0\n",
       "21310    2013-05-14  1993-04-29  1988-06-09      0.0"
      ]
     },
     "execution_count": 101,
     "metadata": {},
     "output_type": "execute_result"
    }
   ],
   "source": [
    "marriages = pd.read_csv(\"../data/marriage_success.csv\", index_col=\"Unnamed: 0\")\n",
    "marriages.head()"
   ]
  },
  {
   "cell_type": "code",
   "execution_count": 102,
   "metadata": {},
   "outputs": [],
   "source": [
    "marriages[[\"Marriage_Date\",\"DOB1\",\"DOB2\"]] = marriages[[\"Marriage_Date\",\"DOB1\",\"DOB2\"]].apply(pd.to_datetime)\n",
    "\n",
    "# Split the data by month and date to prep for zodic sign sortting. \n",
    "marriages['day1'] = marriages['DOB1'].apply(lambda x: x.day)\n",
    "marriages['month1'] = marriages['DOB1'].apply(lambda x: x.month)\n",
    "marriages['day2'] = marriages['DOB2'].apply(lambda x: x.day)\n",
    "marriages['month2'] = marriages['DOB2'].apply(lambda x: x.month)"
   ]
  },
  {
   "cell_type": "code",
   "execution_count": 103,
   "metadata": {},
   "outputs": [],
   "source": [
    "# function for the zodiac sign determination\n",
    "def zodiac_sign(day, month): \n",
    "    if month == 12: \n",
    "        return 'Sagittarius' if (day < 22) else 'Capricorn'\n",
    "    elif month == 1: \n",
    "        return 'Capricorn' if (day < 20) else 'Aquarius'\n",
    "    elif month == 2: \n",
    "        return 'Aquarius' if (day < 19) else 'Pisces'\n",
    "    elif month == 3: \n",
    "        return 'Pisces' if (day < 21) else 'Aries'\n",
    "    elif month == 4: \n",
    "        return 'Aries' if (day < 20) else 'Taurus'\n",
    "    elif month == 5: \n",
    "        return 'Taurus' if (day < 21) else 'Gemini'\n",
    "    elif month == 6: \n",
    "        return 'Gemini' if (day < 21) else 'Cancer'\n",
    "    elif month == 7: \n",
    "        return 'Cancer' if (day < 23) else 'Leo'\n",
    "    elif month == 8: \n",
    "        return 'Leo' if (day < 23) else 'Virgo'\n",
    "    elif month == 9: \n",
    "        return 'Virgo' if (day < 23) else 'Libra'\n",
    "    elif month == 10: \n",
    "        return 'Libra' if (day < 23) else 'Scorpio'\n",
    "    elif month == 11: \n",
    "        return 'Scorpio' if (day < 22) else 'Sagittarius'"
   ]
  },
  {
   "cell_type": "code",
   "execution_count": 104,
   "metadata": {},
   "outputs": [],
   "source": [
    "marriages['zodiac1'] = marriages.apply(lambda x: zodiac_sign(x['day1'], x['month1']), axis=1)\n",
    "marriages['zodiac2'] = marriages.apply(lambda x: zodiac_sign(x['day2'], x['month2']), axis=1)"
   ]
  },
  {
   "cell_type": "code",
   "execution_count": 105,
   "metadata": {},
   "outputs": [],
   "source": [
    "marriages[\"divorce\"] = marriages[\"divorce\"].astype(int)\n",
    "marriages = marriages[[\"zodiac1\",\"zodiac2\",\"divorce\"]]"
   ]
  },
  {
   "cell_type": "code",
   "execution_count": 106,
   "metadata": {},
   "outputs": [],
   "source": [
    "marriages.to_csv(\"../data/zodiac_marriage_success.csv\", header=True)"
   ]
  },
  {
   "cell_type": "code",
   "execution_count": null,
   "metadata": {},
   "outputs": [],
   "source": []
  }
 ],
 "metadata": {
  "kernelspec": {
   "display_name": "base",
   "language": "python",
   "name": "python3"
  },
  "language_info": {
   "codemirror_mode": {
    "name": "ipython",
    "version": 3
   },
   "file_extension": ".py",
   "mimetype": "text/x-python",
   "name": "python",
   "nbconvert_exporter": "python",
   "pygments_lexer": "ipython3",
   "version": "3.9.13"
  },
  "orig_nbformat": 4
 },
 "nbformat": 4,
 "nbformat_minor": 2
}
