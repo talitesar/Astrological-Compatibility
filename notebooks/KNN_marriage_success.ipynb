{
 "cells": [
  {
   "cell_type": "code",
   "execution_count": 16,
   "metadata": {},
   "outputs": [],
   "source": [
    "# import\n",
    "import pandas as pd \n",
    "import numpy as np\n",
    "from sklearn.preprocessing import OneHotEncoder\n",
    "from sklearn.model_selection import train_test_split\n",
    "from sklearn.linear_model import LogisticRegression\n",
    "from sklearn.metrics import accuracy_score\n",
    "from sklearn.metrics import classification_report"
   ]
  },
  {
   "cell_type": "code",
   "execution_count": 17,
   "metadata": {},
   "outputs": [
    {
     "data": {
      "text/html": [
       "<div>\n",
       "<style scoped>\n",
       "    .dataframe tbody tr th:only-of-type {\n",
       "        vertical-align: middle;\n",
       "    }\n",
       "\n",
       "    .dataframe tbody tr th {\n",
       "        vertical-align: top;\n",
       "    }\n",
       "\n",
       "    .dataframe thead th {\n",
       "        text-align: right;\n",
       "    }\n",
       "</style>\n",
       "<table border=\"1\" class=\"dataframe\">\n",
       "  <thead>\n",
       "    <tr style=\"text-align: right;\">\n",
       "      <th></th>\n",
       "      <th>zodiac1</th>\n",
       "      <th>zodiac2</th>\n",
       "      <th>divorce</th>\n",
       "    </tr>\n",
       "  </thead>\n",
       "  <tbody>\n",
       "    <tr>\n",
       "      <th>22554</th>\n",
       "      <td>Scorpio</td>\n",
       "      <td>Aries</td>\n",
       "      <td>0</td>\n",
       "    </tr>\n",
       "    <tr>\n",
       "      <th>12203</th>\n",
       "      <td>Aquarius</td>\n",
       "      <td>Gemini</td>\n",
       "      <td>0</td>\n",
       "    </tr>\n",
       "    <tr>\n",
       "      <th>17722</th>\n",
       "      <td>Taurus</td>\n",
       "      <td>Virgo</td>\n",
       "      <td>0</td>\n",
       "    </tr>\n",
       "    <tr>\n",
       "      <th>7319</th>\n",
       "      <td>Scorpio</td>\n",
       "      <td>Gemini</td>\n",
       "      <td>0</td>\n",
       "    </tr>\n",
       "    <tr>\n",
       "      <th>21310</th>\n",
       "      <td>Taurus</td>\n",
       "      <td>Gemini</td>\n",
       "      <td>0</td>\n",
       "    </tr>\n",
       "  </tbody>\n",
       "</table>\n",
       "</div>"
      ],
      "text/plain": [
       "        zodiac1 zodiac2  divorce\n",
       "22554   Scorpio   Aries        0\n",
       "12203  Aquarius  Gemini        0\n",
       "17722    Taurus   Virgo        0\n",
       "7319    Scorpio  Gemini        0\n",
       "21310    Taurus  Gemini        0"
      ]
     },
     "execution_count": 17,
     "metadata": {},
     "output_type": "execute_result"
    }
   ],
   "source": [
    "# Load the data\n",
    "df = pd.read_csv(\"../data/zodiac_marriage_success.csv\", index_col=\"Unnamed: 0\")\n",
    "df.head()"
   ]
  },
  {
   "cell_type": "code",
   "execution_count": 18,
   "metadata": {},
   "outputs": [
    {
     "name": "stdout",
     "output_type": "stream",
     "text": [
      "      Aquarius  Aries  Cancer  Capricorn  Gemini  Leo  Libra  Pisces  Sagittarius  Scorpio  Taurus  Virgo\n",
      "1            0      1       0          0       0    0      0       0            0        1       0      0\n",
      "2            1      0       0          0       1    0      0       0            0        0       0      0\n",
      "3            0      0       0          0       0    0      0       0            0        0       1      1\n",
      "4            0      0       0          0       1    0      0       0            0        1       0      0\n",
      "5            0      0       0          0       1    0      0       0            0        0       1      0\n",
      "...        ...    ...     ...        ...     ...  ...    ...     ...          ...      ...     ...    ...\n",
      "2564         1      0       0          1       0    0      0       0            0        0       0      0\n",
      "2565         0      1       0          0       0    1      0       0            0        0       0      0\n",
      "2566         0      0       0          0       0    1      1       0            0        0       0      0\n",
      "2567         1      0       0          0       0    0      0       1            0        0       0      0\n",
      "2568         0      0       0          0       0    1      0       0            1        0       0      0\n",
      "\n",
      "[2568 rows x 12 columns]\n"
     ]
    }
   ],
   "source": [
    "# do one-hot encoding to Zod_sign_man and Zod_sign_woman and combine them together into a dataframe as X\n",
    "X1 = pd.get_dummies(df['zodiac1']).values\n",
    "X2 = pd.get_dummies(df['zodiac2']).values\n",
    "X = pd.DataFrame(X1 + X2)\n",
    "\n",
    "# define y variable \n",
    "y = df[\"divorce\"]\n",
    "\n",
    "# Rename the columns to zodiac sign\n",
    "adjacency_matrix = pd.crosstab(df.zodiac1, df.zodiac2)\n",
    "idx = adjacency_matrix.columns.union(adjacency_matrix.index)\n",
    "X.columns = idx\n",
    "\n",
    "# Rearranging index to start from 1\n",
    "X.index = np.arange(1, len(X) + 1)\n",
    "\n",
    "# avoid the multi-line formatting\n",
    "pd.set_option('expand_frame_repr', False)\n",
    "\n",
    "print(X)\n"
   ]
  },
  {
   "cell_type": "code",
   "execution_count": 19,
   "metadata": {},
   "outputs": [
    {
     "name": "stderr",
     "output_type": "stream",
     "text": [
      "/Users/tali/opt/anaconda3/lib/python3.9/site-packages/sklearn/neighbors/_classification.py:228: FutureWarning: Unlike other reduction functions (e.g. `skew`, `kurtosis`), the default behavior of `mode` typically preserves the axis it acts along. In SciPy 1.11.0, this behavior will change: the default value of `keepdims` will become False, the `axis` over which the statistic is taken will be eliminated, and the value None will no longer be accepted. Set `keepdims` to True or False to avoid this warning.\n",
      "  mode, _ = stats.mode(_y[neigh_ind, k], axis=1)\n"
     ]
    },
    {
     "data": {
      "text/plain": [
       "0.4937694704049844"
      ]
     },
     "execution_count": 19,
     "metadata": {},
     "output_type": "execute_result"
    }
   ],
   "source": [
    "# Import the KNeighborsClassifier module from sklearn\n",
    "from sklearn.neighbors import KNeighborsClassifier\n",
    "\n",
    "X_train, X_test, y_train, y_test = train_test_split(X, y)\n",
    "classifier = KNeighborsClassifier(n_neighbors=3)\n",
    "classifier.fit(X_train, y_train)\n",
    "predictions_test = classifier.predict(X_test)\n",
    "accuracy_score(y_test, predictions_test)"
   ]
  },
  {
   "cell_type": "code",
   "execution_count": null,
   "metadata": {},
   "outputs": [],
   "source": []
  }
 ],
 "metadata": {
  "kernelspec": {
   "display_name": "base",
   "language": "python",
   "name": "python3"
  },
  "language_info": {
   "codemirror_mode": {
    "name": "ipython",
    "version": 3
   },
   "file_extension": ".py",
   "mimetype": "text/x-python",
   "name": "python",
   "nbconvert_exporter": "python",
   "pygments_lexer": "ipython3",
   "version": "3.9.13"
  },
  "orig_nbformat": 4
 },
 "nbformat": 4,
 "nbformat_minor": 2
}
