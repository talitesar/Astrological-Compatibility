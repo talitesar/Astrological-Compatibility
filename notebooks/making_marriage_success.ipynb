{
 "cells": [
  {
   "cell_type": "code",
   "execution_count": 52,
   "metadata": {},
   "outputs": [],
   "source": [
    "import pandas as pd\n",
    "import datetime as dt"
   ]
  },
  {
   "cell_type": "code",
   "execution_count": 53,
   "metadata": {},
   "outputs": [],
   "source": [
    "marriages = pd.read_csv(\"../../data/Base-Matrimonios-2000-al-31_03_2015seg.csv\")\n",
    "divorces = pd.read_csv(\"../../data/bases-divorcios-2000-31_03_2015-csv.csv\")"
   ]
  },
  {
   "cell_type": "code",
   "execution_count": 54,
   "metadata": {},
   "outputs": [
    {
     "data": {
      "text/html": [
       "<div>\n",
       "<style scoped>\n",
       "    .dataframe tbody tr th:only-of-type {\n",
       "        vertical-align: middle;\n",
       "    }\n",
       "\n",
       "    .dataframe tbody tr th {\n",
       "        vertical-align: top;\n",
       "    }\n",
       "\n",
       "    .dataframe thead th {\n",
       "        text-align: right;\n",
       "    }\n",
       "</style>\n",
       "<table border=\"1\" class=\"dataframe\">\n",
       "  <thead>\n",
       "    <tr style=\"text-align: right;\">\n",
       "      <th></th>\n",
       "      <th>Marriage_Date</th>\n",
       "      <th>DOB1</th>\n",
       "      <th>DOB2</th>\n",
       "    </tr>\n",
       "  </thead>\n",
       "  <tbody>\n",
       "    <tr>\n",
       "      <th>0</th>\n",
       "      <td>2000-01-03</td>\n",
       "      <td>1974-08-20</td>\n",
       "      <td>1980-01-01</td>\n",
       "    </tr>\n",
       "    <tr>\n",
       "      <th>1</th>\n",
       "      <td>2000-01-05</td>\n",
       "      <td>1980-02-12</td>\n",
       "      <td>1981-12-12</td>\n",
       "    </tr>\n",
       "    <tr>\n",
       "      <th>2</th>\n",
       "      <td>2000-01-05</td>\n",
       "      <td>1978-11-26</td>\n",
       "      <td>1979-09-04</td>\n",
       "    </tr>\n",
       "    <tr>\n",
       "      <th>3</th>\n",
       "      <td>2000-01-06</td>\n",
       "      <td>1974-10-30</td>\n",
       "      <td>1978-12-04</td>\n",
       "    </tr>\n",
       "    <tr>\n",
       "      <th>4</th>\n",
       "      <td>2000-01-06</td>\n",
       "      <td>1937-03-13</td>\n",
       "      <td>1956-09-11</td>\n",
       "    </tr>\n",
       "  </tbody>\n",
       "</table>\n",
       "</div>"
      ],
      "text/plain": [
       "  Marriage_Date        DOB1        DOB2\n",
       "0    2000-01-03  1974-08-20  1980-01-01\n",
       "1    2000-01-05  1980-02-12  1981-12-12\n",
       "2    2000-01-05  1978-11-26  1979-09-04\n",
       "3    2000-01-06  1974-10-30  1978-12-04\n",
       "4    2000-01-06  1937-03-13  1956-09-11"
      ]
     },
     "execution_count": 54,
     "metadata": {},
     "output_type": "execute_result"
    }
   ],
   "source": [
    "# Creating marriage df with only marriage date, both DOB's, and an empty flag for divorce\n",
    "marriages = marriages[[\"Fecha\",\"ElFecNac\",\"EllaFecNac\"]]\n",
    "marriages = marriages.rename(columns={\"Fecha\":\"Marriage_Date\",\"ElFecNac\":\"DOB1\",\"EllaFecNac\":\"DOB2\"})\n",
    "marriages[[\"Marriage_Date\",\"Marriage_Time\"]] = marriages[\"Marriage_Date\"].str.split(\"T\",expand=True)\n",
    "marriages[[\"DOB1\",\"DOB1_Time\"]] = marriages[\"DOB1\"].str.split(\"T\",expand=True)\n",
    "marriages[[\"DOB2\",\"DOB2_Time\"]] = marriages[\"DOB2\"].str.split(\"T\",expand=True)\n",
    "marriages = marriages[[\"Marriage_Date\",\"DOB1\",\"DOB2\"]]\n",
    "marriages.head()"
   ]
  },
  {
   "cell_type": "code",
   "execution_count": 55,
   "metadata": {},
   "outputs": [
    {
     "data": {
      "text/html": [
       "<div>\n",
       "<style scoped>\n",
       "    .dataframe tbody tr th:only-of-type {\n",
       "        vertical-align: middle;\n",
       "    }\n",
       "\n",
       "    .dataframe tbody tr th {\n",
       "        vertical-align: top;\n",
       "    }\n",
       "\n",
       "    .dataframe thead th {\n",
       "        text-align: right;\n",
       "    }\n",
       "</style>\n",
       "<table border=\"1\" class=\"dataframe\">\n",
       "  <thead>\n",
       "    <tr style=\"text-align: right;\">\n",
       "      <th></th>\n",
       "      <th>Marriage_Date</th>\n",
       "      <th>DOB1</th>\n",
       "      <th>DOB2</th>\n",
       "      <th>divorce</th>\n",
       "    </tr>\n",
       "  </thead>\n",
       "  <tbody>\n",
       "    <tr>\n",
       "      <th>0</th>\n",
       "      <td>2000-06-26</td>\n",
       "      <td>1975-12-18</td>\n",
       "      <td>1983-01-08</td>\n",
       "      <td>1</td>\n",
       "    </tr>\n",
       "    <tr>\n",
       "      <th>2</th>\n",
       "      <td>1975-12-18</td>\n",
       "      <td>1955-02-22</td>\n",
       "      <td>1947-03-21</td>\n",
       "      <td>1</td>\n",
       "    </tr>\n",
       "    <tr>\n",
       "      <th>4</th>\n",
       "      <td>1998-11-14</td>\n",
       "      <td>1975-10-30</td>\n",
       "      <td>1978-10-13</td>\n",
       "      <td>1</td>\n",
       "    </tr>\n",
       "    <tr>\n",
       "      <th>5</th>\n",
       "      <td>1995-01-20</td>\n",
       "      <td>1973-03-28</td>\n",
       "      <td>1976-06-14</td>\n",
       "      <td>1</td>\n",
       "    </tr>\n",
       "    <tr>\n",
       "      <th>6</th>\n",
       "      <td>1991-08-16</td>\n",
       "      <td>1970-12-13</td>\n",
       "      <td>1971-11-04</td>\n",
       "      <td>1</td>\n",
       "    </tr>\n",
       "  </tbody>\n",
       "</table>\n",
       "</div>"
      ],
      "text/plain": [
       "  Marriage_Date        DOB1        DOB2  divorce\n",
       "0    2000-06-26  1975-12-18  1983-01-08        1\n",
       "2    1975-12-18  1955-02-22  1947-03-21        1\n",
       "4    1998-11-14  1975-10-30  1978-10-13        1\n",
       "5    1995-01-20  1973-03-28  1976-06-14        1\n",
       "6    1991-08-16  1970-12-13  1971-11-04        1"
      ]
     },
     "execution_count": 55,
     "metadata": {},
     "output_type": "execute_result"
    }
   ],
   "source": [
    "# Creating divorce df with only marriage date, and both DOB's\n",
    "divorces = divorces[[\"Fecha\",\"F_Naci_Do\",\"F_Naci_Da\"]]\n",
    "divorces = divorces.rename(columns={\"Fecha\":\"Marriage_Date\",\"F_Naci_Do\":\"DOB1\",\"F_Naci_Da\":\"DOB2\"})\n",
    "divorces = divorces.dropna()\n",
    "divorces['Marriage_Date'] = pd.to_datetime(divorces['Marriage_Date'], format='%d/%m/%Y').dt.strftime('%Y-%m-%d')\n",
    "divorces['DOB1'] = pd.to_datetime(divorces['DOB1'], format='%d/%m/%Y').dt.strftime('%Y-%m-%d')\n",
    "divorces['DOB2'] = pd.to_datetime(divorces['DOB2'], format='%d/%m/%Y').dt.strftime('%Y-%m-%d')\n",
    "divorces[\"divorce\"] = 1\n",
    "divorces.head()"
   ]
  },
  {
   "cell_type": "code",
   "execution_count": 59,
   "metadata": {},
   "outputs": [],
   "source": [
    "\n",
    "df = pd.merge(marriages, divorces, how='left', on=[\"Marriage_Date\",\"DOB1\",\"DOB2\"])\n",
    "df[\"divorce\"] = df[\"divorce\"].fillna(0)"
   ]
  },
  {
   "cell_type": "code",
   "execution_count": 60,
   "metadata": {},
   "outputs": [
    {
     "data": {
      "text/plain": [
       "0.0    23465\n",
       "1.0     1284\n",
       "Name: divorce, dtype: int64"
      ]
     },
     "execution_count": 60,
     "metadata": {},
     "output_type": "execute_result"
    }
   ],
   "source": [
    "df[\"divorce\"].value_counts()"
   ]
  },
  {
   "cell_type": "code",
   "execution_count": null,
   "metadata": {},
   "outputs": [],
   "source": []
  },
  {
   "cell_type": "code",
   "execution_count": null,
   "metadata": {},
   "outputs": [],
   "source": []
  }
 ],
 "metadata": {
  "kernelspec": {
   "display_name": "Python 3",
   "language": "python",
   "name": "python3"
  },
  "language_info": {
   "codemirror_mode": {
    "name": "ipython",
    "version": 3
   },
   "file_extension": ".py",
   "mimetype": "text/x-python",
   "name": "python",
   "nbconvert_exporter": "python",
   "pygments_lexer": "ipython3",
   "version": "3.9.13"
  },
  "orig_nbformat": 4
 },
 "nbformat": 4,
 "nbformat_minor": 2
}
