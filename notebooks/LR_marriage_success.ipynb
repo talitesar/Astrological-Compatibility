{
 "cells": [
  {
   "cell_type": "code",
   "execution_count": 67,
   "metadata": {},
   "outputs": [],
   "source": [
    "# import\n",
    "import pandas as pd \n",
    "import numpy as np\n",
    "from sklearn.preprocessing import OneHotEncoder\n",
    "from sklearn.model_selection import train_test_split\n",
    "from sklearn.linear_model import LogisticRegression\n",
    "from sklearn.metrics import accuracy_score"
   ]
  },
  {
   "cell_type": "code",
   "execution_count": 68,
   "metadata": {},
   "outputs": [
    {
     "data": {
      "text/html": [
       "<div>\n",
       "<style scoped>\n",
       "    .dataframe tbody tr th:only-of-type {\n",
       "        vertical-align: middle;\n",
       "    }\n",
       "\n",
       "    .dataframe tbody tr th {\n",
       "        vertical-align: top;\n",
       "    }\n",
       "\n",
       "    .dataframe thead th {\n",
       "        text-align: right;\n",
       "    }\n",
       "</style>\n",
       "<table border=\"1\" class=\"dataframe\">\n",
       "  <thead>\n",
       "    <tr style=\"text-align: right;\">\n",
       "      <th></th>\n",
       "      <th>zodiac1</th>\n",
       "      <th>zodiac2</th>\n",
       "      <th>divorce</th>\n",
       "    </tr>\n",
       "  </thead>\n",
       "  <tbody>\n",
       "    <tr>\n",
       "      <th>22554</th>\n",
       "      <td>Scorpio</td>\n",
       "      <td>Aries</td>\n",
       "      <td>0</td>\n",
       "    </tr>\n",
       "    <tr>\n",
       "      <th>12203</th>\n",
       "      <td>Aquarius</td>\n",
       "      <td>Gemini</td>\n",
       "      <td>0</td>\n",
       "    </tr>\n",
       "    <tr>\n",
       "      <th>17722</th>\n",
       "      <td>Taurus</td>\n",
       "      <td>Virgo</td>\n",
       "      <td>0</td>\n",
       "    </tr>\n",
       "    <tr>\n",
       "      <th>7319</th>\n",
       "      <td>Scorpio</td>\n",
       "      <td>Gemini</td>\n",
       "      <td>0</td>\n",
       "    </tr>\n",
       "    <tr>\n",
       "      <th>21310</th>\n",
       "      <td>Taurus</td>\n",
       "      <td>Gemini</td>\n",
       "      <td>0</td>\n",
       "    </tr>\n",
       "  </tbody>\n",
       "</table>\n",
       "</div>"
      ],
      "text/plain": [
       "        zodiac1 zodiac2  divorce\n",
       "22554   Scorpio   Aries        0\n",
       "12203  Aquarius  Gemini        0\n",
       "17722    Taurus   Virgo        0\n",
       "7319    Scorpio  Gemini        0\n",
       "21310    Taurus  Gemini        0"
      ]
     },
     "execution_count": 68,
     "metadata": {},
     "output_type": "execute_result"
    }
   ],
   "source": [
    "# Load the data\n",
    "df = pd.read_csv(\"../data/zodiac_marriage_success.csv\", index_col=\"Unnamed: 0\")\n",
    "df.head()"
   ]
  },
  {
   "cell_type": "code",
   "execution_count": 69,
   "metadata": {},
   "outputs": [
    {
     "name": "stdout",
     "output_type": "stream",
     "text": [
      "      Aquarius  Aries  Cancer  Capricorn  Gemini  Leo  Libra  Pisces  Sagittarius  Scorpio  Taurus  Virgo\n",
      "1            0      1       0          0       0    0      0       0            0        1       0      0\n",
      "2            1      0       0          0       1    0      0       0            0        0       0      0\n",
      "3            0      0       0          0       0    0      0       0            0        0       1      1\n",
      "4            0      0       0          0       1    0      0       0            0        1       0      0\n",
      "5            0      0       0          0       1    0      0       0            0        0       1      0\n",
      "...        ...    ...     ...        ...     ...  ...    ...     ...          ...      ...     ...    ...\n",
      "2564         1      0       0          1       0    0      0       0            0        0       0      0\n",
      "2565         0      1       0          0       0    1      0       0            0        0       0      0\n",
      "2566         0      0       0          0       0    1      1       0            0        0       0      0\n",
      "2567         1      0       0          0       0    0      0       1            0        0       0      0\n",
      "2568         0      0       0          0       0    1      0       0            1        0       0      0\n",
      "\n",
      "[2568 rows x 12 columns]\n"
     ]
    }
   ],
   "source": [
    "# do one-hot encoding to Zod_sign_man and Zod_sign_woman and combine them together into a dataframe as X\n",
    "X1 = pd.get_dummies(df['zodiac1']).values\n",
    "X2 = pd.get_dummies(df['zodiac2']).values\n",
    "X = pd.DataFrame(X1 + X2)\n",
    "\n",
    "# define y variable \n",
    "y = df[\"divorce\"]\n",
    "\n",
    "# Rename the columns to zodiac sign\n",
    "adjacency_matrix = pd.crosstab(df.zodiac1, df.zodiac2)\n",
    "idx = adjacency_matrix.columns.union(adjacency_matrix.index)\n",
    "X.columns = idx\n",
    "\n",
    "# Rearranging index to start from 1\n",
    "X.index = np.arange(1, len(X) + 1)\n",
    "\n",
    "# avoid the multi-line formatting\n",
    "pd.set_option('expand_frame_repr', False)\n",
    "\n",
    "print(X)\n"
   ]
  },
  {
   "cell_type": "code",
   "execution_count": 70,
   "metadata": {},
   "outputs": [
    {
     "data": {
      "text/plain": [
       "0.5233644859813084"
      ]
     },
     "execution_count": 70,
     "metadata": {},
     "output_type": "execute_result"
    }
   ],
   "source": [
    "X_train, X_test, y_train, y_test = train_test_split(X, y)\n",
    "classifier = LogisticRegression(solver='lbfgs',\n",
    "                                max_iter=200)\n",
    "classifier.fit(X_train, y_train)\n",
    "predictions_test = classifier.predict(X_test)\n",
    "accuracy_score(y_test, predictions_test)"
   ]
  },
  {
   "cell_type": "code",
   "execution_count": 71,
   "metadata": {},
   "outputs": [
    {
     "data": {
      "text/html": [
       "<div>\n",
       "<style scoped>\n",
       "    .dataframe tbody tr th:only-of-type {\n",
       "        vertical-align: middle;\n",
       "    }\n",
       "\n",
       "    .dataframe tbody tr th {\n",
       "        vertical-align: top;\n",
       "    }\n",
       "\n",
       "    .dataframe thead th {\n",
       "        text-align: right;\n",
       "    }\n",
       "</style>\n",
       "<table border=\"1\" class=\"dataframe\">\n",
       "  <thead>\n",
       "    <tr style=\"text-align: right;\">\n",
       "      <th></th>\n",
       "      <th>zodiac1</th>\n",
       "      <th>zodiac2</th>\n",
       "    </tr>\n",
       "  </thead>\n",
       "  <tbody>\n",
       "    <tr>\n",
       "      <th>0</th>\n",
       "      <td>Aries</td>\n",
       "      <td>Aries</td>\n",
       "    </tr>\n",
       "    <tr>\n",
       "      <th>1</th>\n",
       "      <td>Aries</td>\n",
       "      <td>Taurus</td>\n",
       "    </tr>\n",
       "    <tr>\n",
       "      <th>2</th>\n",
       "      <td>Aries</td>\n",
       "      <td>Gemini</td>\n",
       "    </tr>\n",
       "    <tr>\n",
       "      <th>3</th>\n",
       "      <td>Aries</td>\n",
       "      <td>Cancer</td>\n",
       "    </tr>\n",
       "    <tr>\n",
       "      <th>4</th>\n",
       "      <td>Aries</td>\n",
       "      <td>Leo</td>\n",
       "    </tr>\n",
       "    <tr>\n",
       "      <th>...</th>\n",
       "      <td>...</td>\n",
       "      <td>...</td>\n",
       "    </tr>\n",
       "    <tr>\n",
       "      <th>139</th>\n",
       "      <td>Pisces</td>\n",
       "      <td>Scorpio</td>\n",
       "    </tr>\n",
       "    <tr>\n",
       "      <th>140</th>\n",
       "      <td>Pisces</td>\n",
       "      <td>Sagittarius</td>\n",
       "    </tr>\n",
       "    <tr>\n",
       "      <th>141</th>\n",
       "      <td>Pisces</td>\n",
       "      <td>Capricorn</td>\n",
       "    </tr>\n",
       "    <tr>\n",
       "      <th>142</th>\n",
       "      <td>Pisces</td>\n",
       "      <td>Aquarius</td>\n",
       "    </tr>\n",
       "    <tr>\n",
       "      <th>143</th>\n",
       "      <td>Pisces</td>\n",
       "      <td>Pisces</td>\n",
       "    </tr>\n",
       "  </tbody>\n",
       "</table>\n",
       "<p>144 rows × 2 columns</p>\n",
       "</div>"
      ],
      "text/plain": [
       "    zodiac1      zodiac2\n",
       "0     Aries        Aries\n",
       "1     Aries       Taurus\n",
       "2     Aries       Gemini\n",
       "3     Aries       Cancer\n",
       "4     Aries          Leo\n",
       "..      ...          ...\n",
       "139  Pisces      Scorpio\n",
       "140  Pisces  Sagittarius\n",
       "141  Pisces    Capricorn\n",
       "142  Pisces     Aquarius\n",
       "143  Pisces       Pisces\n",
       "\n",
       "[144 rows x 2 columns]"
      ]
     },
     "execution_count": 71,
     "metadata": {},
     "output_type": "execute_result"
    }
   ],
   "source": [
    "# Create df with all possible zodiac combos\n",
    "from itertools import product\n",
    "zodiacs = ['Aries', 'Taurus', 'Gemini', 'Cancer', 'Leo', 'Virgo', 'Libra', 'Scorpio', 'Sagittarius', 'Capricorn', 'Aquarius', 'Pisces']\n",
    "zodiacs_df = pd.DataFrame(zodiacs, columns=[\"zodiac\"])\n",
    "all_zodiacs = pd.DataFrame(product(zodiacs_df['zodiac'], zodiacs_df['zodiac']), columns=[\"zodiac1\",\"zodiac2\"])\n",
    "all_zodiacs"
   ]
  },
  {
   "cell_type": "code",
   "execution_count": 72,
   "metadata": {},
   "outputs": [],
   "source": [
    "X1_pred = pd.get_dummies(all_zodiacs['zodiac1']).values\n",
    "X2_pred = pd.get_dummies(all_zodiacs['zodiac2']).values\n",
    "X_pred = pd.DataFrame(X1_pred + X2_pred)\n",
    "\n",
    "# Rename the columns to zodiac sign\n",
    "adjacency_matrix_new = pd.crosstab(all_zodiacs[\"zodiac1\"], all_zodiacs[\"zodiac2\"])\n",
    "idx_new = adjacency_matrix_new.columns.union(adjacency_matrix_new.index)\n",
    "X_pred.columns = idx_new\n",
    "\n",
    "# Rearranging index to start from 1\n",
    "X_pred.index = np.arange(1, len(X_pred) + 1)\n",
    "\n",
    "# avoid the multi-line formatting\n",
    "pd.set_option('expand_frame_repr', False)"
   ]
  },
  {
   "cell_type": "code",
   "execution_count": 73,
   "metadata": {},
   "outputs": [],
   "source": [
    "predictions = classifier.predict(X_pred)"
   ]
  },
  {
   "cell_type": "code",
   "execution_count": 74,
   "metadata": {},
   "outputs": [],
   "source": [
    "import regex as re\n",
    "\n",
    "all_zodiacs[\"bad_match\"] = predictions\n",
    "compat = pd.read_csv(\"../data/Comp_matrix.csv\")\n",
    "p = '(?<=.)(?=[A-Z])'\n",
    "compat[[\"zodiac1\",\"zodiac2\"]] = compat[\"Zodiac_combination\"].str.split(p,expand=True)\n",
    "compat = compat[[\"zodiac1\",\"zodiac2\",\"Compatibility_rate\"]]\n",
    "all_zodiacs = pd.merge(all_zodiacs, compat, on=[\"zodiac1\",\"zodiac2\"])"
   ]
  },
  {
   "cell_type": "code",
   "execution_count": 75,
   "metadata": {},
   "outputs": [],
   "source": [
    "all_zodiacs.to_json(\"../UI/Static//zodiac_outcome.json\",orient='index')\n",
    "all_zodiacs.to_csv(\"../data/zodiac_outcome.csv\")"
   ]
  }
 ],
 "metadata": {
  "kernelspec": {
   "display_name": "base",
   "language": "python",
   "name": "python3"
  },
  "language_info": {
   "codemirror_mode": {
    "name": "ipython",
    "version": 3
   },
   "file_extension": ".py",
   "mimetype": "text/x-python",
   "name": "python",
   "nbconvert_exporter": "python",
   "pygments_lexer": "ipython3",
   "version": "3.9.13"
  },
  "orig_nbformat": 4
 },
 "nbformat": 4,
 "nbformat_minor": 2
}
