{
 "cells": [
  {
   "cell_type": "code",
   "execution_count": 1,
   "metadata": {},
   "outputs": [],
   "source": [
    "# import\n",
    "import pandas as pd \n",
    "import numpy as np\n",
    "from sklearn.preprocessing import OneHotEncoder\n",
    "from sklearn.model_selection import train_test_split\n",
    "from sklearn.neighbors import KNeighborsClassifier\n",
    "from sklearn.model_selection import cross_val_score"
   ]
  },
  {
   "cell_type": "code",
   "execution_count": 8,
   "metadata": {},
   "outputs": [
    {
     "data": {
      "text/html": [
       "<div>\n",
       "<style scoped>\n",
       "    .dataframe tbody tr th:only-of-type {\n",
       "        vertical-align: middle;\n",
       "    }\n",
       "\n",
       "    .dataframe tbody tr th {\n",
       "        vertical-align: top;\n",
       "    }\n",
       "\n",
       "    .dataframe thead th {\n",
       "        text-align: right;\n",
       "    }\n",
       "</style>\n",
       "<table border=\"1\" class=\"dataframe\">\n",
       "  <thead>\n",
       "    <tr style=\"text-align: right;\">\n",
       "      <th></th>\n",
       "      <th>Zod_sign_man</th>\n",
       "      <th>Zod_sign_woman</th>\n",
       "      <th>zod_combo</th>\n",
       "      <th>Compatibility_rate</th>\n",
       "      <th>Compatibility</th>\n",
       "    </tr>\n",
       "  </thead>\n",
       "  <tbody>\n",
       "    <tr>\n",
       "      <th>0</th>\n",
       "      <td>Sagittarius</td>\n",
       "      <td>Leo</td>\n",
       "      <td>SagittariusLeo</td>\n",
       "      <td>0.93</td>\n",
       "      <td>Good_fit</td>\n",
       "    </tr>\n",
       "    <tr>\n",
       "      <th>2</th>\n",
       "      <td>Pisces</td>\n",
       "      <td>Aries</td>\n",
       "      <td>PiscesAries</td>\n",
       "      <td>0.67</td>\n",
       "      <td>Bad_fit</td>\n",
       "    </tr>\n",
       "    <tr>\n",
       "      <th>4</th>\n",
       "      <td>Scorpio</td>\n",
       "      <td>Libra</td>\n",
       "      <td>ScorpioLibra</td>\n",
       "      <td>0.35</td>\n",
       "      <td>Bad_fit</td>\n",
       "    </tr>\n",
       "    <tr>\n",
       "      <th>5</th>\n",
       "      <td>Aries</td>\n",
       "      <td>Gemini</td>\n",
       "      <td>AriesGemini</td>\n",
       "      <td>0.83</td>\n",
       "      <td>Good_fit</td>\n",
       "    </tr>\n",
       "    <tr>\n",
       "      <th>6</th>\n",
       "      <td>Sagittarius</td>\n",
       "      <td>Aries</td>\n",
       "      <td>SagittariusAries</td>\n",
       "      <td>0.93</td>\n",
       "      <td>Good_fit</td>\n",
       "    </tr>\n",
       "    <tr>\n",
       "      <th>...</th>\n",
       "      <td>...</td>\n",
       "      <td>...</td>\n",
       "      <td>...</td>\n",
       "      <td>...</td>\n",
       "      <td>...</td>\n",
       "    </tr>\n",
       "    <tr>\n",
       "      <th>4918</th>\n",
       "      <td>Scorpio</td>\n",
       "      <td>Sagittarius</td>\n",
       "      <td>ScorpioSagittarius</td>\n",
       "      <td>0.28</td>\n",
       "      <td>Bad_fit</td>\n",
       "    </tr>\n",
       "    <tr>\n",
       "      <th>4919</th>\n",
       "      <td>Libra</td>\n",
       "      <td>Virgo</td>\n",
       "      <td>LibraVirgo</td>\n",
       "      <td>0.68</td>\n",
       "      <td>Bad_fit</td>\n",
       "    </tr>\n",
       "    <tr>\n",
       "      <th>4920</th>\n",
       "      <td>Scorpio</td>\n",
       "      <td>Aquarius</td>\n",
       "      <td>ScorpioAquarius</td>\n",
       "      <td>0.73</td>\n",
       "      <td>Good_fit</td>\n",
       "    </tr>\n",
       "    <tr>\n",
       "      <th>4921</th>\n",
       "      <td>Cancer</td>\n",
       "      <td>Aquarius</td>\n",
       "      <td>CancerAquarius</td>\n",
       "      <td>0.27</td>\n",
       "      <td>Bad_fit</td>\n",
       "    </tr>\n",
       "    <tr>\n",
       "      <th>4922</th>\n",
       "      <td>Cancer</td>\n",
       "      <td>Aquarius</td>\n",
       "      <td>CancerAquarius</td>\n",
       "      <td>0.27</td>\n",
       "      <td>Bad_fit</td>\n",
       "    </tr>\n",
       "  </tbody>\n",
       "</table>\n",
       "<p>4374 rows × 5 columns</p>\n",
       "</div>"
      ],
      "text/plain": [
       "     Zod_sign_man Zod_sign_woman           zod_combo  Compatibility_rate  \\\n",
       "0     Sagittarius            Leo      SagittariusLeo                0.93   \n",
       "2          Pisces          Aries         PiscesAries                0.67   \n",
       "4         Scorpio          Libra        ScorpioLibra                0.35   \n",
       "5           Aries         Gemini         AriesGemini                0.83   \n",
       "6     Sagittarius          Aries    SagittariusAries                0.93   \n",
       "...           ...            ...                 ...                 ...   \n",
       "4918      Scorpio    Sagittarius  ScorpioSagittarius                0.28   \n",
       "4919        Libra          Virgo          LibraVirgo                0.68   \n",
       "4920      Scorpio       Aquarius     ScorpioAquarius                0.73   \n",
       "4921       Cancer       Aquarius      CancerAquarius                0.27   \n",
       "4922       Cancer       Aquarius      CancerAquarius                0.27   \n",
       "\n",
       "     Compatibility  \n",
       "0         Good_fit  \n",
       "2          Bad_fit  \n",
       "4          Bad_fit  \n",
       "5         Good_fit  \n",
       "6         Good_fit  \n",
       "...            ...  \n",
       "4918       Bad_fit  \n",
       "4919       Bad_fit  \n",
       "4920      Good_fit  \n",
       "4921       Bad_fit  \n",
       "4922       Bad_fit  \n",
       "\n",
       "[4374 rows x 5 columns]"
      ]
     },
     "execution_count": 8,
     "metadata": {},
     "output_type": "execute_result"
    }
   ],
   "source": [
    "# load the data\n",
    "data_ML = pd.read_csv('../data/data_ML.csv', index_col=[0])\n",
    "zod_sign = pd.read_csv('../data/zod_sign.csv', index_col=[0])\n",
    "data_ML"
   ]
  },
  {
   "cell_type": "code",
   "execution_count": 37,
   "metadata": {},
   "outputs": [
    {
     "name": "stdout",
     "output_type": "stream",
     "text": [
      "      Aquarius  Aries  Cancer  Capricorn  Gemini  Leo  Libra  Pisces  Sagittarius  Scorpio  Taurus  Virgo\n",
      "1            0      0       0          0       0    1      0       0            1        0       0      0\n",
      "2            0      1       0          0       0    0      0       1            0        0       0      0\n",
      "3            0      0       0          0       0    0      1       0            0        1       0      0\n",
      "4            0      1       0          0       1    0      0       0            0        0       0      0\n",
      "5            0      1       0          0       0    0      0       0            1        0       0      0\n",
      "...        ...    ...     ...        ...     ...  ...    ...     ...          ...      ...     ...    ...\n",
      "4370         0      0       0          0       0    0      0       0            1        1       0      0\n",
      "4371         0      0       0          0       0    0      1       0            0        0       0      1\n",
      "4372         1      0       0          0       0    0      0       0            0        1       0      0\n",
      "4373         1      0       1          0       0    0      0       0            0        0       0      0\n",
      "4374         1      0       1          0       0    0      0       0            0        0       0      0\n",
      "\n",
      "[4374 rows x 12 columns]\n"
     ]
    }
   ],
   "source": [
    "# do one-hot encoding to Zod_sign_man and Zod_sign_woman and combine them together into a dataframe as X\n",
    "X_men = pd.get_dummies(data_ML['Zod_sign_man']).values\n",
    "X_women = pd.get_dummies(data_ML['Zod_sign_woman']).values\n",
    "X = pd.DataFrame(X_men + X_women)\n",
    "\n",
    "# define y variable \n",
    "y = data_ML.Compatibility\n",
    "\n",
    "# Rename the columns to zodiac sign\n",
    "adjacency_matrix = pd.crosstab(data_ML.Zod_sign_man, data_ML.Zod_sign_woman)\n",
    "idx = adjacency_matrix.columns.union(adjacency_matrix.index)\n",
    "X.columns = idx\n",
    "\n",
    "# Rearranging index to start from 1\n",
    "X.index = np.arange(1, len(X) + 1)\n",
    "\n",
    "# avoid the multi-line formatting\n",
    "pd.set_option('expand_frame_repr', False)\n",
    "\n",
    "print(X)\n",
    "\n",
    "\n"
   ]
  },
  {
   "cell_type": "code",
   "execution_count": 18,
   "metadata": {},
   "outputs": [
    {
     "name": "stdout",
     "output_type": "stream",
     "text": [
      "1.0\n"
     ]
    }
   ],
   "source": [
    "X_train, X_test, y_train, y_test = train_test_split(X, y, random_state=4)\n",
    "knn = KNeighborsClassifier(n_neighbors=10)\n",
    "knn.fit(X_train, y_train)\n",
    "y_pred = knn.predict(X_test)\n",
    "print(knn.score(X_test, y_test))"
   ]
  },
  {
   "cell_type": "code",
   "execution_count": 13,
   "metadata": {},
   "outputs": [
    {
     "name": "stdout",
     "output_type": "stream",
     "text": [
      "1.0\n"
     ]
    }
   ],
   "source": [
    "# test train split #\n",
    "X_train, X_test, y_train, y_test = train_test_split(X, y, random_state=4)\n",
    "knn = KNeighborsClassifier(n_neighbors=2)\n",
    "knn.fit(X_train, y_train)\n",
    "y_pred = knn.predict(X_test)\n",
    "print(knn.score(X_test, y_test))"
   ]
  },
  {
   "cell_type": "code",
   "execution_count": 11,
   "metadata": {},
   "outputs": [
    {
     "name": "stdout",
     "output_type": "stream",
     "text": [
      "[1. 1. 1. 1. 1.]\n"
     ]
    }
   ],
   "source": [
    "# this is cross_val_score #\n",
    "knn = KNeighborsClassifier(n_neighbors=5)\n",
    "scores = cross_val_score(knn, X, y, cv=5, scoring='accuracy')\n",
    "print(scores)"
   ]
  },
  {
   "cell_type": "code",
   "execution_count": 7,
   "metadata": {},
   "outputs": [
    {
     "data": {
      "image/png": "[encoded data removed]",
      "text/plain": [
       "<Figure size 432x288 with 1 Axes>"
      ]
     },
     "metadata": {
      "needs_background": "light"
     },
     "output_type": "display_data"
    }
   ],
   "source": [
    "# Use cross_val_score to choose model and configs #\n",
    "import matplotlib.pyplot as plt\n",
    "k_range = range(1, 31)\n",
    "k_scores = []\n",
    "for k in k_range:\n",
    "    knn = KNeighborsClassifier(n_neighbors=k)\n",
    "    scores = cross_val_score(knn, X, y, cv=10, scoring='accuracy')\n",
    "    k_scores.append(scores.mean())\n",
    "\n",
    "plt.plot(k_range, k_scores)\n",
    "plt.xlabel('Value of K for KNN')\n",
    "plt.ylabel('Cross-Validated Accuracy')\n",
    "plt.show()"
   ]
  },
  {
   "cell_type": "code",
   "execution_count": null,
   "metadata": {},
   "outputs": [],
   "source": []
  }
 ],
 "metadata": {
  "kernelspec": {
   "display_name": "Python 3.7.7 ('PythonData')",
   "language": "python",
   "name": "python3"
  },
  "language_info": {
   "codemirror_mode": {
    "name": "ipython",
    "version": 3
   },
   "file_extension": ".py",
   "mimetype": "text/x-python",
   "name": "python",
   "nbconvert_exporter": "python",
   "pygments_lexer": "ipython3",
   "version": "3.7.7"
  },
  "orig_nbformat": 4,
  "vscode": {
   "interpreter": {
    "hash": "3fa4556334f3e4924b041b5562133005755cbc543816881918366a407efe0371"
   }
  }
 },
 "nbformat": 4,
 "nbformat_minor": 2
}
